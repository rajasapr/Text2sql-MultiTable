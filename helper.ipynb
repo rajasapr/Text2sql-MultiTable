{
 "cells": [
  {
   "cell_type": "code",
   "execution_count": 2,
   "id": "e38722cd",
   "metadata": {},
   "outputs": [],
   "source": [
    "import os"
   ]
  },
  {
   "cell_type": "code",
   "execution_count": 3,
   "id": "ed7c207e",
   "metadata": {},
   "outputs": [
    {
     "data": {
      "text/plain": [
       "'c:\\\\Users\\\\yraja\\\\Raja_files\\\\Datasense\\\\Text2Sql-Multittable'"
      ]
     },
     "execution_count": 3,
     "metadata": {},
     "output_type": "execute_result"
    }
   ],
   "source": [
    "os.getcwd()"
   ]
  },
  {
   "cell_type": "code",
   "execution_count": 4,
   "id": "5fc3e08b",
   "metadata": {},
   "outputs": [
    {
     "data": {
      "text/plain": [
       "['.env',\n",
       " '.git',\n",
       " '.gitignore',\n",
       " 'csvchatbot.db',\n",
       " 'Data',\n",
       " 'helper.ipynb',\n",
       " 'ingestion.py',\n",
       " 'main.py',\n",
       " 'readme.md',\n",
       " 'requirements.txt']"
      ]
     },
     "execution_count": 4,
     "metadata": {},
     "output_type": "execute_result"
    }
   ],
   "source": [
    "os.listdir()"
   ]
  },
  {
   "cell_type": "code",
   "execution_count": 5,
   "id": "4adc0371",
   "metadata": {},
   "outputs": [],
   "source": [
    "os.chdir(r'c:\\\\Users\\\\yraja\\\\Raja_files\\\\Datasense')"
   ]
  },
  {
   "cell_type": "code",
   "execution_count": 6,
   "id": "47524f62",
   "metadata": {},
   "outputs": [
    {
     "data": {
      "text/plain": [
       "['Assignments',\n",
       " 'Class2-NLP',\n",
       " 'Class3',\n",
       " 'Class3-20250424T160050Z-001.zip',\n",
       " 'delelte',\n",
       " 'ds_git',\n",
       " 'New folder',\n",
       " 'Rag',\n",
       " 'Text2Sql-1',\n",
       " 'Text2Sql-Multittable']"
      ]
     },
     "execution_count": 6,
     "metadata": {},
     "output_type": "execute_result"
    }
   ],
   "source": [
    "os.listdir()"
   ]
  },
  {
   "cell_type": "code",
   "execution_count": 7,
   "id": "72cee0b2",
   "metadata": {},
   "outputs": [],
   "source": [
    "os.chdir('./Text2Sql-Multittable')"
   ]
  },
  {
   "cell_type": "code",
   "execution_count": 8,
   "id": "65ce37f0",
   "metadata": {},
   "outputs": [
    {
     "data": {
      "text/plain": [
       "['.env',\n",
       " '.git',\n",
       " '.gitignore',\n",
       " 'csvchatbot.db',\n",
       " 'Data',\n",
       " 'helper.ipynb',\n",
       " 'ingestion.py',\n",
       " 'main.py',\n",
       " 'readme.md',\n",
       " 'requirements.txt']"
      ]
     },
     "execution_count": 8,
     "metadata": {},
     "output_type": "execute_result"
    }
   ],
   "source": [
    "os.listdir()"
   ]
  },
  {
   "cell_type": "code",
   "execution_count": 9,
   "id": "ea4131a0",
   "metadata": {},
   "outputs": [
    {
     "name": "stdout",
     "output_type": "stream",
     "text": [
      "['.env', '.gitignore', 'csvchatbot.db', 'helper.ipynb', 'ingestion.py', 'main.py', 'readme.md', 'requirements.txt']\n",
      "['COMMIT_EDITMSG', 'config', 'description', 'HEAD', 'index']\n",
      "['applypatch-msg.sample', 'commit-msg.sample', 'fsmonitor-watchman.sample', 'post-update.sample', 'pre-applypatch.sample', 'pre-commit.sample', 'pre-merge-commit.sample', 'pre-push.sample', 'pre-rebase.sample', 'pre-receive.sample', 'prepare-commit-msg.sample', 'push-to-checkout.sample', 'sendemail-validate.sample', 'update.sample']\n",
      "['exclude']\n",
      "['HEAD']\n",
      "[]\n",
      "['master']\n",
      "[]\n",
      "['3a906f32da6405de6bd4c2e216245533774503']\n",
      "['e2c24b2dcde2df71a766ffd26457d5da0ccd73']\n",
      "['d9061a55723f1acf9c92e0ae6dad3cb1acdb41']\n",
      "['7703fd48be4070425d21303400ef4c89d31c00']\n",
      "['ea525d885d5148108f6f3a9a8613863f783d36']\n",
      "['3d6141564831b56f42f49bbf95118bee93dd58']\n",
      "['9668bc7b28f1d7d32fa2d3c12e5d771d54edb3']\n",
      "['bb8b5d8c516204d43c3d4bb6b26482091f7f2b']\n",
      "['09c27e0298c2d7083c5517d2c335e2a7bf5308']\n",
      "['55adbf0d36d9ed192276aab6b4ef8b748a4486']\n",
      "['3e6862e8ae251ac364801e401e24ff9898fd26']\n",
      "['c2491370e10405fc6368b9c1ad5301309ba02e']\n",
      "['6f168a5c7fc4b48adee90bff591faebebea816']\n",
      "['9de29bb2d1d6434b8b29ae775ad8c2e48c5391']\n",
      "['ea2da340b9d21227e51a8cab991be98e2845d1']\n",
      "['4ec9ec0a36b45324b1fed096a2382619e8d33c']\n",
      "['954d79c893cb075d363122ee484ffebebb5a6f']\n",
      "['c5b38e69e8e905c410937706a5a61012fc73cd']\n",
      "[]\n",
      "[]\n",
      "[]\n",
      "['master']\n",
      "[]\n",
      "['food_delivery_menu_items.csv', 'food_delivery_orders.csv', 'food_delivery_order_details.csv', 'food_delivery_payments.csv', 'food_delivery_restaurants.csv', 'food_delivery_reviews.csv', 'food_delivery_users.csv', 'New Bitmap image.bmp']\n"
     ]
    }
   ],
   "source": [
    "for root , directory , file in os.walk(os.getcwd()):\n",
    "    print(file)"
   ]
  },
  {
   "cell_type": "code",
   "execution_count": 10,
   "id": "80a249e9",
   "metadata": {},
   "outputs": [
    {
     "data": {
      "text/plain": [
       "list"
      ]
     },
     "execution_count": 10,
     "metadata": {},
     "output_type": "execute_result"
    }
   ],
   "source": [
    "type(file)"
   ]
  },
  {
   "cell_type": "code",
   "execution_count": 11,
   "id": "082ef942",
   "metadata": {},
   "outputs": [
    {
     "data": {
      "text/plain": [
       "['food_delivery_orders.csv',\n",
       " 'food_delivery_order_details.csv',\n",
       " 'food_delivery_payments.csv',\n",
       " 'food_delivery_restaurants.csv',\n",
       " 'food_delivery_reviews.csv',\n",
       " 'food_delivery_users.csv',\n",
       " 'New Bitmap image.bmp']"
      ]
     },
     "execution_count": 11,
     "metadata": {},
     "output_type": "execute_result"
    }
   ],
   "source": [
    "file[1:]"
   ]
  },
  {
   "cell_type": "code",
   "execution_count": 12,
   "id": "60bbe045",
   "metadata": {},
   "outputs": [],
   "source": [
    "os.chdir('./Data/')"
   ]
  },
  {
   "cell_type": "code",
   "execution_count": 13,
   "id": "ab1d2168",
   "metadata": {},
   "outputs": [
    {
     "data": {
      "text/plain": [
       "'c:\\\\Users\\\\yraja\\\\Raja_files\\\\Datasense\\\\Text2Sql-Multittable\\\\Data'"
      ]
     },
     "execution_count": 13,
     "metadata": {},
     "output_type": "execute_result"
    }
   ],
   "source": [
    "os.getcwd()"
   ]
  },
  {
   "cell_type": "code",
   "execution_count": 14,
   "id": "7b75b64a",
   "metadata": {},
   "outputs": [
    {
     "name": "stdout",
     "output_type": "stream",
     "text": [
      "c:\\Users\\yraja\\Raja_files\\Datasense\\Text2Sql-Multittable\\Data\\food_delivery_menu_items.csv\n",
      "c:\\Users\\yraja\\Raja_files\\Datasense\\Text2Sql-Multittable\\Data\\food_delivery_orders.csv\n",
      "c:\\Users\\yraja\\Raja_files\\Datasense\\Text2Sql-Multittable\\Data\\food_delivery_order_details.csv\n",
      "c:\\Users\\yraja\\Raja_files\\Datasense\\Text2Sql-Multittable\\Data\\food_delivery_payments.csv\n",
      "c:\\Users\\yraja\\Raja_files\\Datasense\\Text2Sql-Multittable\\Data\\food_delivery_restaurants.csv\n",
      "c:\\Users\\yraja\\Raja_files\\Datasense\\Text2Sql-Multittable\\Data\\food_delivery_reviews.csv\n",
      "c:\\Users\\yraja\\Raja_files\\Datasense\\Text2Sql-Multittable\\Data\\food_delivery_users.csv\n"
     ]
    }
   ],
   "source": [
    "for root, directory, file in os.walk(os.getcwd()):\n",
    "    for f in file:\n",
    "       if '.csv' in f:\n",
    "           print(root + '\\\\'+f)"
   ]
  },
  {
   "cell_type": "code",
   "execution_count": 15,
   "id": "bc65e791",
   "metadata": {},
   "outputs": [
    {
     "name": "stdout",
     "output_type": "stream",
     "text": [
      "['food_delivery_menu_items.csv', 'food_delivery_orders.csv', 'food_delivery_order_details.csv', 'food_delivery_payments.csv', 'food_delivery_restaurants.csv', 'food_delivery_reviews.csv', 'food_delivery_users.csv', 'New Bitmap image.bmp']\n"
     ]
    }
   ],
   "source": [
    "for root, directory, file in os.walk(os.getcwd()):\n",
    "    print(file)"
   ]
  },
  {
   "cell_type": "code",
   "execution_count": 16,
   "id": "e7737432",
   "metadata": {},
   "outputs": [],
   "source": [
    "#convert all the paths to a  list\n",
    "csv_documents = []\n",
    "for root, directory, file in os.walk(os.getcwd()):\n",
    "    for f in file:\n",
    "       if '.csv' in f:\n",
    "           csv_documents.append(root + '\\\\'+f)"
   ]
  },
  {
   "cell_type": "code",
   "execution_count": 17,
   "id": "3630c98d",
   "metadata": {},
   "outputs": [],
   "source": [
    "#Conver all the paths to a list using join \n",
    "csv_documents =[]\n",
    "for root, directory, file in os.walk(os.getcwd()):\n",
    "    for f in file:\n",
    "       if '.csv' in f:\n",
    "           csv_documents.append(os.path.join(root,f))    "
   ]
  },
  {
   "cell_type": "code",
   "execution_count": 18,
   "id": "5ec8579b",
   "metadata": {},
   "outputs": [
    {
     "name": "stdout",
     "output_type": "stream",
     "text": [
      "['c:\\\\Users\\\\yraja\\\\Raja_files\\\\Datasense\\\\Text2Sql-Multittable\\\\Data\\\\food_delivery_menu_items.csv', 'c:\\\\Users\\\\yraja\\\\Raja_files\\\\Datasense\\\\Text2Sql-Multittable\\\\Data\\\\food_delivery_orders.csv', 'c:\\\\Users\\\\yraja\\\\Raja_files\\\\Datasense\\\\Text2Sql-Multittable\\\\Data\\\\food_delivery_order_details.csv', 'c:\\\\Users\\\\yraja\\\\Raja_files\\\\Datasense\\\\Text2Sql-Multittable\\\\Data\\\\food_delivery_payments.csv', 'c:\\\\Users\\\\yraja\\\\Raja_files\\\\Datasense\\\\Text2Sql-Multittable\\\\Data\\\\food_delivery_restaurants.csv', 'c:\\\\Users\\\\yraja\\\\Raja_files\\\\Datasense\\\\Text2Sql-Multittable\\\\Data\\\\food_delivery_reviews.csv', 'c:\\\\Users\\\\yraja\\\\Raja_files\\\\Datasense\\\\Text2Sql-Multittable\\\\Data\\\\food_delivery_users.csv']\n"
     ]
    }
   ],
   "source": [
    "print(csv_documents)"
   ]
  },
  {
   "cell_type": "code",
   "execution_count": 19,
   "id": "f6cbbb90",
   "metadata": {},
   "outputs": [
    {
     "name": "stdout",
     "output_type": "stream",
     "text": [
      "0 c:\\Users\\yraja\\Raja_files\\Datasense\\Text2Sql-Multittable\\Data\\food_delivery_menu_items.csv\n",
      "1 c:\\Users\\yraja\\Raja_files\\Datasense\\Text2Sql-Multittable\\Data\\food_delivery_orders.csv\n",
      "2 c:\\Users\\yraja\\Raja_files\\Datasense\\Text2Sql-Multittable\\Data\\food_delivery_order_details.csv\n",
      "3 c:\\Users\\yraja\\Raja_files\\Datasense\\Text2Sql-Multittable\\Data\\food_delivery_payments.csv\n",
      "4 c:\\Users\\yraja\\Raja_files\\Datasense\\Text2Sql-Multittable\\Data\\food_delivery_restaurants.csv\n",
      "5 c:\\Users\\yraja\\Raja_files\\Datasense\\Text2Sql-Multittable\\Data\\food_delivery_reviews.csv\n",
      "6 c:\\Users\\yraja\\Raja_files\\Datasense\\Text2Sql-Multittable\\Data\\food_delivery_users.csv\n"
     ]
    }
   ],
   "source": [
    "\n",
    "\n",
    "for i,path in enumerate(csv_documents):\n",
    "    print(i,path)\n",
    " "
   ]
  },
  {
   "cell_type": "code",
   "execution_count": 20,
   "id": "6a483b39",
   "metadata": {},
   "outputs": [
    {
     "name": "stdout",
     "output_type": "stream",
     "text": [
      "c:\\Users\\yraja\\Raja_files\\Datasense\\Text2Sql-Multittable\\Data\n"
     ]
    }
   ],
   "source": [
    "print(os.getcwd())"
   ]
  },
  {
   "cell_type": "code",
   "execution_count": 21,
   "id": "c2cf0f18",
   "metadata": {},
   "outputs": [],
   "source": [
    "# now you know the path convert them into panda\n",
    "import pandas as pd\n",
    "document_base_path = \"./Data\"\n",
    "#for root , directory , file in os.walk(document_base_path,f)\n"
   ]
  },
  {
   "cell_type": "code",
   "execution_count": null,
   "id": "915b4dc1",
   "metadata": {},
   "outputs": [],
   "source": [
    "\n",
    "table_names_df = pd.read_sql(\"SELECT name FROM sqlite_master WHERE type='table';\", conn)"
   ]
  },
  {
   "cell_type": "code",
   "execution_count": null,
   "id": "cb2e193c",
   "metadata": {},
   "outputs": [
    {
     "ename": "NameError",
     "evalue": "name '__file__' is not defined",
     "output_type": "error",
     "traceback": [
      "\u001b[31m---------------------------------------------------------------------------\u001b[39m",
      "\u001b[31mNameError\u001b[39m                                 Traceback (most recent call last)",
      "\u001b[36mCell\u001b[39m\u001b[36m \u001b[39m\u001b[32mIn[22]\u001b[39m\u001b[32m, line 2\u001b[39m\n\u001b[32m      1\u001b[39m \u001b[38;5;28;01mfrom\u001b[39;00m\u001b[38;5;250m \u001b[39m\u001b[34;01mpathlib\u001b[39;00m\u001b[38;5;250m \u001b[39m\u001b[38;5;28;01mimport\u001b[39;00m Path\n\u001b[32m----> \u001b[39m\u001b[32m2\u001b[39m base_path = Path(\u001b[34;43m__file__\u001b[39;49m).resolve().parent / \u001b[33m\"\u001b[39m\u001b[33mData\u001b[39m\u001b[33m\"\u001b[39m\n\u001b[32m      3\u001b[39m base_path\n",
      "\u001b[31mNameError\u001b[39m: name '__file__' is not defined"
     ]
    }
   ],
   "source": [
    "# from pathlib import Path\n",
    "# base_path = Path(__file__).resolve().parent / \"Data\"\n",
    "# base_path"
   ]
  },
  {
   "cell_type": "code",
   "execution_count": 39,
   "id": "8252679d",
   "metadata": {},
   "outputs": [
    {
     "name": "stdout",
     "output_type": "stream",
     "text": [
      "<sqlite3.Connection object at 0x000001D18FB9CC70>\n",
      "True\n"
     ]
    }
   ],
   "source": [
    "import sqlite3\n",
    "conn = sqlite3.Connection(\"csvchatbot.db\")\n",
    "print(conn)\n",
    "\n",
    "print(os.path.exists(\"csvchatbot.db\"))\n",
    "table_names_df = pd.read_sql(\"SELECT name FROM sqlite_master WHERE type='table';\", conn)\n",
    "table_names = table_names_df[\"name\"].tolist()  # Extract as list of strings"
   ]
  },
  {
   "cell_type": "code",
   "execution_count": 41,
   "id": "a640b6d4",
   "metadata": {},
   "outputs": [
    {
     "ename": "FileNotFoundError",
     "evalue": "[Errno 2] No such file or directory: 'Data/food_delivery_users.csv'",
     "output_type": "error",
     "traceback": [
      "\u001b[31m---------------------------------------------------------------------------\u001b[39m",
      "\u001b[31mFileNotFoundError\u001b[39m                         Traceback (most recent call last)",
      "\u001b[36mCell\u001b[39m\u001b[36m \u001b[39m\u001b[32mIn[41]\u001b[39m\u001b[32m, line 1\u001b[39m\n\u001b[32m----> \u001b[39m\u001b[32m1\u001b[39m df = \u001b[43mpd\u001b[49m\u001b[43m.\u001b[49m\u001b[43mread_csv\u001b[49m\u001b[43m(\u001b[49m\u001b[33;43m\"\u001b[39;49m\u001b[33;43mData/food_delivery_users.csv\u001b[39;49m\u001b[33;43m\"\u001b[39;49m\u001b[43m)\u001b[49m\n\u001b[32m      2\u001b[39m conn = sqlite3.connect(\u001b[33m\"\u001b[39m\u001b[33mcsvchatbot.db\u001b[39m\u001b[33m\"\u001b[39m)\n\u001b[32m      4\u001b[39m \u001b[38;5;66;03m# Store the dataframe to Sqllite database\u001b[39;00m\n",
      "\u001b[36mFile \u001b[39m\u001b[32mc:\\Users\\yraja\\anaconda3\\envs\\genai-env\\Lib\\site-packages\\pandas\\io\\parsers\\readers.py:1026\u001b[39m, in \u001b[36mread_csv\u001b[39m\u001b[34m(filepath_or_buffer, sep, delimiter, header, names, index_col, usecols, dtype, engine, converters, true_values, false_values, skipinitialspace, skiprows, skipfooter, nrows, na_values, keep_default_na, na_filter, verbose, skip_blank_lines, parse_dates, infer_datetime_format, keep_date_col, date_parser, date_format, dayfirst, cache_dates, iterator, chunksize, compression, thousands, decimal, lineterminator, quotechar, quoting, doublequote, escapechar, comment, encoding, encoding_errors, dialect, on_bad_lines, delim_whitespace, low_memory, memory_map, float_precision, storage_options, dtype_backend)\u001b[39m\n\u001b[32m   1013\u001b[39m kwds_defaults = _refine_defaults_read(\n\u001b[32m   1014\u001b[39m     dialect,\n\u001b[32m   1015\u001b[39m     delimiter,\n\u001b[32m   (...)\u001b[39m\u001b[32m   1022\u001b[39m     dtype_backend=dtype_backend,\n\u001b[32m   1023\u001b[39m )\n\u001b[32m   1024\u001b[39m kwds.update(kwds_defaults)\n\u001b[32m-> \u001b[39m\u001b[32m1026\u001b[39m \u001b[38;5;28;01mreturn\u001b[39;00m \u001b[43m_read\u001b[49m\u001b[43m(\u001b[49m\u001b[43mfilepath_or_buffer\u001b[49m\u001b[43m,\u001b[49m\u001b[43m \u001b[49m\u001b[43mkwds\u001b[49m\u001b[43m)\u001b[49m\n",
      "\u001b[36mFile \u001b[39m\u001b[32mc:\\Users\\yraja\\anaconda3\\envs\\genai-env\\Lib\\site-packages\\pandas\\io\\parsers\\readers.py:620\u001b[39m, in \u001b[36m_read\u001b[39m\u001b[34m(filepath_or_buffer, kwds)\u001b[39m\n\u001b[32m    617\u001b[39m _validate_names(kwds.get(\u001b[33m\"\u001b[39m\u001b[33mnames\u001b[39m\u001b[33m\"\u001b[39m, \u001b[38;5;28;01mNone\u001b[39;00m))\n\u001b[32m    619\u001b[39m \u001b[38;5;66;03m# Create the parser.\u001b[39;00m\n\u001b[32m--> \u001b[39m\u001b[32m620\u001b[39m parser = \u001b[43mTextFileReader\u001b[49m\u001b[43m(\u001b[49m\u001b[43mfilepath_or_buffer\u001b[49m\u001b[43m,\u001b[49m\u001b[43m \u001b[49m\u001b[43m*\u001b[49m\u001b[43m*\u001b[49m\u001b[43mkwds\u001b[49m\u001b[43m)\u001b[49m\n\u001b[32m    622\u001b[39m \u001b[38;5;28;01mif\u001b[39;00m chunksize \u001b[38;5;129;01mor\u001b[39;00m iterator:\n\u001b[32m    623\u001b[39m     \u001b[38;5;28;01mreturn\u001b[39;00m parser\n",
      "\u001b[36mFile \u001b[39m\u001b[32mc:\\Users\\yraja\\anaconda3\\envs\\genai-env\\Lib\\site-packages\\pandas\\io\\parsers\\readers.py:1620\u001b[39m, in \u001b[36mTextFileReader.__init__\u001b[39m\u001b[34m(self, f, engine, **kwds)\u001b[39m\n\u001b[32m   1617\u001b[39m     \u001b[38;5;28mself\u001b[39m.options[\u001b[33m\"\u001b[39m\u001b[33mhas_index_names\u001b[39m\u001b[33m\"\u001b[39m] = kwds[\u001b[33m\"\u001b[39m\u001b[33mhas_index_names\u001b[39m\u001b[33m\"\u001b[39m]\n\u001b[32m   1619\u001b[39m \u001b[38;5;28mself\u001b[39m.handles: IOHandles | \u001b[38;5;28;01mNone\u001b[39;00m = \u001b[38;5;28;01mNone\u001b[39;00m\n\u001b[32m-> \u001b[39m\u001b[32m1620\u001b[39m \u001b[38;5;28mself\u001b[39m._engine = \u001b[38;5;28;43mself\u001b[39;49m\u001b[43m.\u001b[49m\u001b[43m_make_engine\u001b[49m\u001b[43m(\u001b[49m\u001b[43mf\u001b[49m\u001b[43m,\u001b[49m\u001b[43m \u001b[49m\u001b[38;5;28;43mself\u001b[39;49m\u001b[43m.\u001b[49m\u001b[43mengine\u001b[49m\u001b[43m)\u001b[49m\n",
      "\u001b[36mFile \u001b[39m\u001b[32mc:\\Users\\yraja\\anaconda3\\envs\\genai-env\\Lib\\site-packages\\pandas\\io\\parsers\\readers.py:1880\u001b[39m, in \u001b[36mTextFileReader._make_engine\u001b[39m\u001b[34m(self, f, engine)\u001b[39m\n\u001b[32m   1878\u001b[39m     \u001b[38;5;28;01mif\u001b[39;00m \u001b[33m\"\u001b[39m\u001b[33mb\u001b[39m\u001b[33m\"\u001b[39m \u001b[38;5;129;01mnot\u001b[39;00m \u001b[38;5;129;01min\u001b[39;00m mode:\n\u001b[32m   1879\u001b[39m         mode += \u001b[33m\"\u001b[39m\u001b[33mb\u001b[39m\u001b[33m\"\u001b[39m\n\u001b[32m-> \u001b[39m\u001b[32m1880\u001b[39m \u001b[38;5;28mself\u001b[39m.handles = \u001b[43mget_handle\u001b[49m\u001b[43m(\u001b[49m\n\u001b[32m   1881\u001b[39m \u001b[43m    \u001b[49m\u001b[43mf\u001b[49m\u001b[43m,\u001b[49m\n\u001b[32m   1882\u001b[39m \u001b[43m    \u001b[49m\u001b[43mmode\u001b[49m\u001b[43m,\u001b[49m\n\u001b[32m   1883\u001b[39m \u001b[43m    \u001b[49m\u001b[43mencoding\u001b[49m\u001b[43m=\u001b[49m\u001b[38;5;28;43mself\u001b[39;49m\u001b[43m.\u001b[49m\u001b[43moptions\u001b[49m\u001b[43m.\u001b[49m\u001b[43mget\u001b[49m\u001b[43m(\u001b[49m\u001b[33;43m\"\u001b[39;49m\u001b[33;43mencoding\u001b[39;49m\u001b[33;43m\"\u001b[39;49m\u001b[43m,\u001b[49m\u001b[43m \u001b[49m\u001b[38;5;28;43;01mNone\u001b[39;49;00m\u001b[43m)\u001b[49m\u001b[43m,\u001b[49m\n\u001b[32m   1884\u001b[39m \u001b[43m    \u001b[49m\u001b[43mcompression\u001b[49m\u001b[43m=\u001b[49m\u001b[38;5;28;43mself\u001b[39;49m\u001b[43m.\u001b[49m\u001b[43moptions\u001b[49m\u001b[43m.\u001b[49m\u001b[43mget\u001b[49m\u001b[43m(\u001b[49m\u001b[33;43m\"\u001b[39;49m\u001b[33;43mcompression\u001b[39;49m\u001b[33;43m\"\u001b[39;49m\u001b[43m,\u001b[49m\u001b[43m \u001b[49m\u001b[38;5;28;43;01mNone\u001b[39;49;00m\u001b[43m)\u001b[49m\u001b[43m,\u001b[49m\n\u001b[32m   1885\u001b[39m \u001b[43m    \u001b[49m\u001b[43mmemory_map\u001b[49m\u001b[43m=\u001b[49m\u001b[38;5;28;43mself\u001b[39;49m\u001b[43m.\u001b[49m\u001b[43moptions\u001b[49m\u001b[43m.\u001b[49m\u001b[43mget\u001b[49m\u001b[43m(\u001b[49m\u001b[33;43m\"\u001b[39;49m\u001b[33;43mmemory_map\u001b[39;49m\u001b[33;43m\"\u001b[39;49m\u001b[43m,\u001b[49m\u001b[43m \u001b[49m\u001b[38;5;28;43;01mFalse\u001b[39;49;00m\u001b[43m)\u001b[49m\u001b[43m,\u001b[49m\n\u001b[32m   1886\u001b[39m \u001b[43m    \u001b[49m\u001b[43mis_text\u001b[49m\u001b[43m=\u001b[49m\u001b[43mis_text\u001b[49m\u001b[43m,\u001b[49m\n\u001b[32m   1887\u001b[39m \u001b[43m    \u001b[49m\u001b[43merrors\u001b[49m\u001b[43m=\u001b[49m\u001b[38;5;28;43mself\u001b[39;49m\u001b[43m.\u001b[49m\u001b[43moptions\u001b[49m\u001b[43m.\u001b[49m\u001b[43mget\u001b[49m\u001b[43m(\u001b[49m\u001b[33;43m\"\u001b[39;49m\u001b[33;43mencoding_errors\u001b[39;49m\u001b[33;43m\"\u001b[39;49m\u001b[43m,\u001b[49m\u001b[43m \u001b[49m\u001b[33;43m\"\u001b[39;49m\u001b[33;43mstrict\u001b[39;49m\u001b[33;43m\"\u001b[39;49m\u001b[43m)\u001b[49m\u001b[43m,\u001b[49m\n\u001b[32m   1888\u001b[39m \u001b[43m    \u001b[49m\u001b[43mstorage_options\u001b[49m\u001b[43m=\u001b[49m\u001b[38;5;28;43mself\u001b[39;49m\u001b[43m.\u001b[49m\u001b[43moptions\u001b[49m\u001b[43m.\u001b[49m\u001b[43mget\u001b[49m\u001b[43m(\u001b[49m\u001b[33;43m\"\u001b[39;49m\u001b[33;43mstorage_options\u001b[39;49m\u001b[33;43m\"\u001b[39;49m\u001b[43m,\u001b[49m\u001b[43m \u001b[49m\u001b[38;5;28;43;01mNone\u001b[39;49;00m\u001b[43m)\u001b[49m\u001b[43m,\u001b[49m\n\u001b[32m   1889\u001b[39m \u001b[43m\u001b[49m\u001b[43m)\u001b[49m\n\u001b[32m   1890\u001b[39m \u001b[38;5;28;01massert\u001b[39;00m \u001b[38;5;28mself\u001b[39m.handles \u001b[38;5;129;01mis\u001b[39;00m \u001b[38;5;129;01mnot\u001b[39;00m \u001b[38;5;28;01mNone\u001b[39;00m\n\u001b[32m   1891\u001b[39m f = \u001b[38;5;28mself\u001b[39m.handles.handle\n",
      "\u001b[36mFile \u001b[39m\u001b[32mc:\\Users\\yraja\\anaconda3\\envs\\genai-env\\Lib\\site-packages\\pandas\\io\\common.py:873\u001b[39m, in \u001b[36mget_handle\u001b[39m\u001b[34m(path_or_buf, mode, encoding, compression, memory_map, is_text, errors, storage_options)\u001b[39m\n\u001b[32m    868\u001b[39m \u001b[38;5;28;01melif\u001b[39;00m \u001b[38;5;28misinstance\u001b[39m(handle, \u001b[38;5;28mstr\u001b[39m):\n\u001b[32m    869\u001b[39m     \u001b[38;5;66;03m# Check whether the filename is to be opened in binary mode.\u001b[39;00m\n\u001b[32m    870\u001b[39m     \u001b[38;5;66;03m# Binary mode does not support 'encoding' and 'newline'.\u001b[39;00m\n\u001b[32m    871\u001b[39m     \u001b[38;5;28;01mif\u001b[39;00m ioargs.encoding \u001b[38;5;129;01mand\u001b[39;00m \u001b[33m\"\u001b[39m\u001b[33mb\u001b[39m\u001b[33m\"\u001b[39m \u001b[38;5;129;01mnot\u001b[39;00m \u001b[38;5;129;01min\u001b[39;00m ioargs.mode:\n\u001b[32m    872\u001b[39m         \u001b[38;5;66;03m# Encoding\u001b[39;00m\n\u001b[32m--> \u001b[39m\u001b[32m873\u001b[39m         handle = \u001b[38;5;28;43mopen\u001b[39;49m\u001b[43m(\u001b[49m\n\u001b[32m    874\u001b[39m \u001b[43m            \u001b[49m\u001b[43mhandle\u001b[49m\u001b[43m,\u001b[49m\n\u001b[32m    875\u001b[39m \u001b[43m            \u001b[49m\u001b[43mioargs\u001b[49m\u001b[43m.\u001b[49m\u001b[43mmode\u001b[49m\u001b[43m,\u001b[49m\n\u001b[32m    876\u001b[39m \u001b[43m            \u001b[49m\u001b[43mencoding\u001b[49m\u001b[43m=\u001b[49m\u001b[43mioargs\u001b[49m\u001b[43m.\u001b[49m\u001b[43mencoding\u001b[49m\u001b[43m,\u001b[49m\n\u001b[32m    877\u001b[39m \u001b[43m            \u001b[49m\u001b[43merrors\u001b[49m\u001b[43m=\u001b[49m\u001b[43merrors\u001b[49m\u001b[43m,\u001b[49m\n\u001b[32m    878\u001b[39m \u001b[43m            \u001b[49m\u001b[43mnewline\u001b[49m\u001b[43m=\u001b[49m\u001b[33;43m\"\u001b[39;49m\u001b[33;43m\"\u001b[39;49m\u001b[43m,\u001b[49m\n\u001b[32m    879\u001b[39m \u001b[43m        \u001b[49m\u001b[43m)\u001b[49m\n\u001b[32m    880\u001b[39m     \u001b[38;5;28;01melse\u001b[39;00m:\n\u001b[32m    881\u001b[39m         \u001b[38;5;66;03m# Binary mode\u001b[39;00m\n\u001b[32m    882\u001b[39m         handle = \u001b[38;5;28mopen\u001b[39m(handle, ioargs.mode)\n",
      "\u001b[31mFileNotFoundError\u001b[39m: [Errno 2] No such file or directory: 'Data/food_delivery_users.csv'"
     ]
    }
   ],
   "source": [
    "df = pd.read_csv(\"Data/food_delivery_users.csv\")\n",
    "conn = sqlite3.connect(\"csvchatbot.db\")\n",
    "\n",
    "# Store the dataframe to Sqllite database\n",
    "\n",
    "df.to_sql(\"food_deliver_users\",conn,if_exists=\"replace\",index=False)\n",
    "\n",
    "conn.close()\n"
   ]
  },
  {
   "cell_type": "code",
   "execution_count": 40,
   "id": "099375f9",
   "metadata": {},
   "outputs": [
    {
     "data": {
      "text/plain": [
       "0"
      ]
     },
     "execution_count": 40,
     "metadata": {},
     "output_type": "execute_result"
    }
   ],
   "source": [
    "len(table_names_df)"
   ]
  },
  {
   "cell_type": "code",
   "execution_count": 29,
   "id": "c14af506",
   "metadata": {},
   "outputs": [
    {
     "data": {
      "text/plain": [
       "[]"
      ]
     },
     "execution_count": 29,
     "metadata": {},
     "output_type": "execute_result"
    }
   ],
   "source": [
    "table_names"
   ]
  },
  {
   "cell_type": "code",
   "execution_count": null,
   "id": "48998772",
   "metadata": {},
   "outputs": [],
   "source": []
  }
 ],
 "metadata": {
  "kernelspec": {
   "display_name": "genai-env",
   "language": "python",
   "name": "python3"
  },
  "language_info": {
   "codemirror_mode": {
    "name": "ipython",
    "version": 3
   },
   "file_extension": ".py",
   "mimetype": "text/x-python",
   "name": "python",
   "nbconvert_exporter": "python",
   "pygments_lexer": "ipython3",
   "version": "3.11.11"
  }
 },
 "nbformat": 4,
 "nbformat_minor": 5
}
