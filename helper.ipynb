{
 "cells": [
  {
   "cell_type": "code",
   "execution_count": 2,
   "id": "e38722cd",
   "metadata": {},
   "outputs": [],
   "source": [
    "import os"
   ]
  },
  {
   "cell_type": "code",
   "execution_count": 3,
   "id": "ed7c207e",
   "metadata": {},
   "outputs": [
    {
     "data": {
      "text/plain": [
       "'c:\\\\Users\\\\yraja\\\\Raja_files\\\\Datasense\\\\Text2Sql-Multittable'"
      ]
     },
     "execution_count": 3,
     "metadata": {},
     "output_type": "execute_result"
    }
   ],
   "source": [
    "os.getcwd()"
   ]
  },
  {
   "cell_type": "code",
   "execution_count": 4,
   "id": "5fc3e08b",
   "metadata": {},
   "outputs": [
    {
     "data": {
      "text/plain": [
       "['.env',\n",
       " '.gitignore',\n",
       " 'csvchatbot.db',\n",
       " 'Data',\n",
       " 'ingestion.py',\n",
       " 'main.py',\n",
       " 'readme.md',\n",
       " 'requirements.txt',\n",
       " 'test.ipynb']"
      ]
     },
     "execution_count": 4,
     "metadata": {},
     "output_type": "execute_result"
    }
   ],
   "source": [
    "os.listdir()"
   ]
  },
  {
   "cell_type": "code",
   "execution_count": 10,
   "id": "4adc0371",
   "metadata": {},
   "outputs": [],
   "source": [
    "os.chdir(r'c:\\\\Users\\\\yraja\\\\Raja_files\\\\Datasense')"
   ]
  },
  {
   "cell_type": "code",
   "execution_count": 11,
   "id": "47524f62",
   "metadata": {},
   "outputs": [
    {
     "data": {
      "text/plain": [
       "['Assignments',\n",
       " 'Class2-NLP',\n",
       " 'Class3',\n",
       " 'Class3-20250424T160050Z-001.zip',\n",
       " 'delelte',\n",
       " 'ds_git',\n",
       " 'New folder',\n",
       " 'Rag',\n",
       " 'Text2Sql-1',\n",
       " 'Text2Sql-Multittable']"
      ]
     },
     "execution_count": 11,
     "metadata": {},
     "output_type": "execute_result"
    }
   ],
   "source": [
    "os.listdir()"
   ]
  },
  {
   "cell_type": "code",
   "execution_count": 12,
   "id": "72cee0b2",
   "metadata": {},
   "outputs": [],
   "source": [
    "os.chdir('./Text2Sql-Multittable')"
   ]
  },
  {
   "cell_type": "code",
   "execution_count": 13,
   "id": "65ce37f0",
   "metadata": {},
   "outputs": [
    {
     "data": {
      "text/plain": [
       "['.env',\n",
       " '.gitignore',\n",
       " 'csvchatbot.db',\n",
       " 'Data',\n",
       " 'ingestion.py',\n",
       " 'main.py',\n",
       " 'readme.md',\n",
       " 'requirements.txt',\n",
       " 'test.ipynb']"
      ]
     },
     "execution_count": 13,
     "metadata": {},
     "output_type": "execute_result"
    }
   ],
   "source": [
    "os.listdir()"
   ]
  },
  {
   "cell_type": "code",
   "execution_count": 17,
   "id": "ea4131a0",
   "metadata": {},
   "outputs": [
    {
     "name": "stdout",
     "output_type": "stream",
     "text": [
      "['.env', '.gitignore', 'csvchatbot.db', 'ingestion.py', 'main.py', 'readme.md', 'requirements.txt', 'test.ipynb']\n",
      "['food_delivery_menu_items.csv', 'food_delivery_orders.csv', 'food_delivery_order_details.csv', 'food_delivery_payments.csv', 'food_delivery_restaurants.csv', 'food_delivery_reviews.csv', 'food_delivery_users.csv']\n"
     ]
    }
   ],
   "source": [
    "for root , directory , file in os.walk(os.getcwd()):\n",
    "    print(file)"
   ]
  },
  {
   "cell_type": "code",
   "execution_count": 18,
   "id": "80a249e9",
   "metadata": {},
   "outputs": [
    {
     "data": {
      "text/plain": [
       "list"
      ]
     },
     "execution_count": 18,
     "metadata": {},
     "output_type": "execute_result"
    }
   ],
   "source": [
    "type(file)"
   ]
  },
  {
   "cell_type": "code",
   "execution_count": 21,
   "id": "082ef942",
   "metadata": {},
   "outputs": [
    {
     "data": {
      "text/plain": [
       "['food_delivery_orders.csv',\n",
       " 'food_delivery_order_details.csv',\n",
       " 'food_delivery_payments.csv',\n",
       " 'food_delivery_restaurants.csv',\n",
       " 'food_delivery_reviews.csv',\n",
       " 'food_delivery_users.csv']"
      ]
     },
     "execution_count": 21,
     "metadata": {},
     "output_type": "execute_result"
    }
   ],
   "source": [
    "file[1:]"
   ]
  },
  {
   "cell_type": "code",
   "execution_count": 23,
   "id": "60bbe045",
   "metadata": {},
   "outputs": [],
   "source": [
    "os.chdir('./Data/')"
   ]
  },
  {
   "cell_type": "code",
   "execution_count": 24,
   "id": "ab1d2168",
   "metadata": {},
   "outputs": [
    {
     "data": {
      "text/plain": [
       "'c:\\\\Users\\\\yraja\\\\Raja_files\\\\Datasense\\\\Text2Sql-Multittable\\\\Data'"
      ]
     },
     "execution_count": 24,
     "metadata": {},
     "output_type": "execute_result"
    }
   ],
   "source": [
    "os.getcwd()"
   ]
  },
  {
   "cell_type": "code",
   "execution_count": 33,
   "id": "7b75b64a",
   "metadata": {},
   "outputs": [
    {
     "name": "stdout",
     "output_type": "stream",
     "text": [
      "c:\\Users\\yraja\\Raja_files\\Datasense\\Text2Sql-Multittable\\Data\\food_delivery_menu_items.csv\n",
      "c:\\Users\\yraja\\Raja_files\\Datasense\\Text2Sql-Multittable\\Data\\food_delivery_orders.csv\n",
      "c:\\Users\\yraja\\Raja_files\\Datasense\\Text2Sql-Multittable\\Data\\food_delivery_order_details.csv\n",
      "c:\\Users\\yraja\\Raja_files\\Datasense\\Text2Sql-Multittable\\Data\\food_delivery_payments.csv\n",
      "c:\\Users\\yraja\\Raja_files\\Datasense\\Text2Sql-Multittable\\Data\\food_delivery_restaurants.csv\n",
      "c:\\Users\\yraja\\Raja_files\\Datasense\\Text2Sql-Multittable\\Data\\food_delivery_reviews.csv\n",
      "c:\\Users\\yraja\\Raja_files\\Datasense\\Text2Sql-Multittable\\Data\\food_delivery_users.csv\n"
     ]
    }
   ],
   "source": [
    "for root, directory, file in os.walk(os.getcwd()):\n",
    "    for f in file:\n",
    "       if '.csv' in f:\n",
    "           print(root + '\\\\'+f)"
   ]
  },
  {
   "cell_type": "code",
   "execution_count": 31,
   "id": "bc65e791",
   "metadata": {},
   "outputs": [
    {
     "name": "stdout",
     "output_type": "stream",
     "text": [
      "['food_delivery_menu_items.csv', 'food_delivery_orders.csv', 'food_delivery_order_details.csv', 'food_delivery_payments.csv', 'food_delivery_restaurants.csv', 'food_delivery_reviews.csv', 'food_delivery_users.csv', 'New Bitmap image.bmp']\n"
     ]
    }
   ],
   "source": [
    "for root, directory, file in os.walk(os.getcwd()):\n",
    "    print(file)"
   ]
  },
  {
   "cell_type": "code",
   "execution_count": null,
   "id": "f6cbbb90",
   "metadata": {},
   "outputs": [],
   "source": []
  }
 ],
 "metadata": {
  "kernelspec": {
   "display_name": "genai-env",
   "language": "python",
   "name": "python3"
  },
  "language_info": {
   "codemirror_mode": {
    "name": "ipython",
    "version": 3
   },
   "file_extension": ".py",
   "mimetype": "text/x-python",
   "name": "python",
   "nbconvert_exporter": "python",
   "pygments_lexer": "ipython3",
   "version": "3.11.11"
  }
 },
 "nbformat": 4,
 "nbformat_minor": 5
}
